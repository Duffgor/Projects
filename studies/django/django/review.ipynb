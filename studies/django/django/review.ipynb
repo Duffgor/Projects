{
 "cells": [
  {
   "cell_type": "code",
   "execution_count": 13,
   "metadata": {},
   "outputs": [
    {
     "name": "stdout",
     "output_type": "stream",
     "text": [
      "s'nohJ olleH\n"
     ]
    }
   ],
   "source": [
    "mystring = 'Hello Jhon\\'s'\n",
    "print(mystring[::-1])"
   ]
  },
  {
   "cell_type": "code",
   "execution_count": 14,
   "metadata": {},
   "outputs": [
    {
     "name": "stdout",
     "output_type": "stream",
     "text": [
      "1000\n",
      "3\n",
      "1\n"
     ]
    }
   ],
   "source": [
    "mya = 10\n",
    "myb = 3\n",
    "print(mya**myb) #üssü\n",
    "print(mya//myb) #bölüm\n",
    "print(mya%myb) #kalan\n"
   ]
  },
  {
   "cell_type": "code",
   "execution_count": 17,
   "metadata": {},
   "outputs": [],
   "source": [
    "list1 = [1,2,3,4,5,6,1,2,3,4,5,6] #en çok yer tutan\n",
    "tuple1 = (1,2,3,4,5,6,1,2,3,4,5,6) #indexten çağırılabilir ama değiştirilemez\n",
    "set1 = {1,2,3,4,5,6} #tekrar edemez\n",
    "dict1 = {'one':1, 'two':2, 'three':3, 'forro':4} #key/value üzerinden çağrılır"
   ]
  },
  {
   "cell_type": "markdown",
   "metadata": {},
   "source": []
  },
  {
   "cell_type": "code",
   "execution_count": 18,
   "metadata": {},
   "outputs": [
    {
     "name": "stdout",
     "output_type": "stream",
     "text": [
      "[1, 2, 3, 4, 5, 6, 1, 2, 3, 4, 5, 6, 7]\n"
     ]
    }
   ],
   "source": [
    "list1.append(7)\n",
    "print(list1)\n",
    "# .count() .extend() .index() .insert() .pop() .remove() .reverse()"
   ]
  },
  {
   "cell_type": "code",
   "execution_count": null,
   "metadata": {},
   "outputs": [],
   "source": []
  },
  {
   "cell_type": "code",
   "execution_count": null,
   "metadata": {},
   "outputs": [],
   "source": []
  },
  {
   "cell_type": "code",
   "execution_count": null,
   "metadata": {},
   "outputs": [],
   "source": []
  },
  {
   "cell_type": "code",
   "execution_count": null,
   "metadata": {},
   "outputs": [],
   "source": []
  },
  {
   "cell_type": "code",
   "execution_count": null,
   "metadata": {},
   "outputs": [],
   "source": []
  }
 ],
 "metadata": {
  "kernelspec": {
   "display_name": "Python 3.9.7 ('base')",
   "language": "python",
   "name": "python3"
  },
  "language_info": {
   "codemirror_mode": {
    "name": "ipython",
    "version": 3
   },
   "file_extension": ".py",
   "mimetype": "text/x-python",
   "name": "python",
   "nbconvert_exporter": "python",
   "pygments_lexer": "ipython3",
   "version": "3.9.7"
  },
  "orig_nbformat": 4,
  "vscode": {
   "interpreter": {
    "hash": "09819aa4e4f01439a3b78017dca8a74c6971ea91b7ed9284e4f0254f0aa0b0b0"
   }
  }
 },
 "nbformat": 4,
 "nbformat_minor": 2
}
